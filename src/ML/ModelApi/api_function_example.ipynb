{
 "cells": [
  {
   "cell_type": "markdown",
   "metadata": {},
   "source": [
    "## API scenario \n",
    "\n",
    "\n",
    "1. post 인자로 모델명과 이어붙인 문자열의 데이터가 들어온다. \n",
    "2. 해당 데이터가 우리 모델에서 어떤 결과값이 나오는지 본다. \n",
    "3. 결과값과 모델 아이디를 서버 api에 보낸다.\n",
    "\n",
    "{\"id\": 1231243124, \"data\": \"x,y,z\\n1.1,2.2,4.5\\n....\"}"
   ]
  },
  {
   "cell_type": "code",
   "execution_count": 1,
   "metadata": {
    "scrolled": false
   },
   "outputs": [
    {
     "name": "stdout",
     "output_type": "stream",
     "text": [
      " * Serving Flask app \"__main__\" (lazy loading)\n",
      " * Environment: production\n",
      "\u001b[31m   WARNING: This is a development server. Do not use it in a production deployment.\u001b[0m\n",
      "\u001b[2m   Use a production WSGI server instead.\u001b[0m\n",
      " * Debug mode: off\n"
     ]
    },
    {
     "name": "stderr",
     "output_type": "stream",
     "text": [
      " * Running on http://0.0.0.0:8000/ (Press CTRL+C to quit)\n",
      "127.0.0.1 - - [26/May/2020 20:11:28] \"\u001b[37mPOST / HTTP/1.1\u001b[0m\" 200 -\n"
     ]
    },
    {
     "name": "stdout",
     "output_type": "stream",
     "text": [
      "series_id           uint32\n",
      "measurement_num     uint32\n",
      "x                  float32\n",
      "y                  float32\n",
      "z                  float32\n",
      "dtype: object\n",
      "    series_id  measurement_num          x         y          z\n",
      "0           0                0  -0.347922  1.412436   9.371981\n",
      "1           0                1   0.330484  1.817755   9.883181\n",
      "2           0                2   0.121596  2.068804  10.851442\n",
      "3           0                3  -0.942006  0.498314  10.119856\n",
      "4           0                4  -1.779952  0.655459   9.350901\n",
      "5           0                5   0.318985  2.505264   6.790112\n",
      "6           0                6  -3.047650  1.026282   7.275439\n",
      "7           0                7  -2.260489  1.442141   8.356768\n",
      "8           0                8  -3.355712  1.254334   6.930488\n",
      "9           0                9  -7.808467 -3.641589   3.516421\n",
      "10          0               10 -12.247329 -2.758608   4.710338\n",
      "11          0               11 -11.148752 -2.500852   2.520372\n",
      "12          0               12 -11.883692 -2.021752   1.449104\n",
      "13          0               13 -10.381234 -2.573675   2.788668\n",
      "14          0               14  -9.430221 -2.449588   2.001986\n",
      "15          0               15 -14.449272 -2.403116  -0.093119\n",
      "16          0               16 -10.343386  0.186899  -0.829974\n",
      "17          0               17 -11.249842 -3.230521  -1.261644\n",
      "18          0               18  -9.506876  0.099703  -0.966518\n",
      "19          0               19  -7.224444 -1.333765  -0.908547\n",
      "20          0               20  -5.585922  0.086767  -0.150132\n",
      "21          0               21  -9.719597 -0.122600  -1.570184\n",
      "22          0               22 -15.944544 -3.073856  -1.671274\n",
      "23          0               23 -12.899384  1.393273   0.309325\n",
      "24          0               24  -7.867396 -1.918746   1.141043\n",
      "25          0               25  -8.754210 -3.645422  -0.341772\n",
      "26          0               26 -14.400884 -4.272085  -1.557248\n",
      "27          0               27 -18.420053 -2.727467  -4.204755\n",
      "28          0               28 -15.752904  0.217082  -3.355790\n"
     ]
    },
    {
     "name": "stderr",
     "output_type": "stream",
     "text": [
      "127.0.0.1 - - [26/May/2020 20:11:38] \"\u001b[37mPOST / HTTP/1.1\u001b[0m\" 200 -\n"
     ]
    },
    {
     "name": "stdout",
     "output_type": "stream",
     "text": [
      "series_id           uint32\n",
      "measurement_num     uint32\n",
      "x                  float32\n",
      "y                  float32\n",
      "z                  float32\n",
      "dtype: object\n",
      "    series_id  measurement_num          x          y         z\n",
      "0           0                0  -1.951410   2.641958  8.344559\n",
      "1           0                1  -1.539387   2.180110  4.947771\n",
      "2           0                2  -3.544403  -0.503305  6.283969\n",
      "3           0                3  -6.056780   1.863428  3.973290\n",
      "4           0                4 -10.898043  -0.864064 -2.098769\n",
      "5           0                5 -21.095116  -5.013512 -3.810099\n",
      "6           0                6  -8.608825  -4.291711 -1.987094\n",
      "7           0                7 -15.697432   1.678959  4.308383\n",
      "8           0                8  -9.351412  -1.818052 -1.653336\n",
      "9           0                9 -10.835162   0.650840 -1.917902\n",
      "10          0               10  -9.349140  -1.046031 -2.805840\n",
      "11          0               11  -6.610285  -1.672918  0.353366\n",
      "12          0               12  -6.858587   2.302958  3.950840\n",
      "13          0               13 -12.677405   3.422084  1.706272\n",
      "14          0               14 -15.747534   3.223820 -2.554532\n",
      "15          0               15   5.072305   2.404296  9.258686\n",
      "16          0               16  -0.109171  12.026088 -5.377966\n",
      "17          0               17  -0.739182  14.207327 -4.136890\n",
      "18          0               18  -5.694860  12.650257 -2.867573\n",
      "19          0               19  -2.718480   8.995850 -1.032772\n",
      "20          0               20  -0.883421   9.895357 -0.841903\n",
      "21          0               21  -7.060008   5.929992 -5.324999\n",
      "22          0               22  -6.132478  11.796041 -8.054408\n",
      "23          0               23  -9.321817   4.946408  1.821192\n",
      "24          0               24 -12.845568   7.426688  4.013055\n",
      "25          0               25  -7.587492   3.973365  3.041449\n",
      "26          0               26  -4.499240   5.164876 -1.677644\n",
      "27          0               27  -2.000277   7.807569 -2.718719\n",
      "28          0               28  -2.532553   8.975125 -2.516540\n",
      "29          0               29  -3.143879   8.647423 -2.432699\n"
     ]
    }
   ],
   "source": [
    "from flask import Flask, request, jsonify\n",
    "from flask_restful import reqparse\n",
    "import json \n",
    "import pandas as pd\n",
    "import numpy as np\n",
    "\n",
    "app = Flask(__name__)\n",
    "\n",
    "parser = reqparse.RequestParser()\n",
    "\n",
    "x_cols = {\n",
    "    'series_id' : np.uint32,\n",
    "    'measurement_num': np.uint32,\n",
    "    'x' : np.float32,\n",
    "    'y' : np.float32,\n",
    "    'z' : np.float32\n",
    "}\n",
    "\n",
    "\n",
    "@app.route('/', methods=['POST'])\n",
    "def data_post():\n",
    "    if request.method == 'POST':\n",
    "        text = request.data.decode(\"utf-8\")\n",
    "        p_dict = eval(text)\n",
    "        data = p_dict['data']\n",
    "        df = pd.DataFrame([x.split(',') for x in data.split('\\n')[1:-1]], columns=[x for x in data.split('\\n')[0].split(',')])\n",
    "        df_len = len(df)\n",
    "        df.insert(0, \"measurement_num\", [i for i in range(df_len)])\n",
    "        df.insert(0, \"series_id\", [0] * df_len)\n",
    "        df = df.astype({'series_id': np.uint32, 'measurement_num': np.uint32, 'x':np.float32, 'y':np.float32, 'z':np.float32})\n",
    "        # result =  model_call(dataframe)\n",
    "        # print(result)\n",
    "        print(df.dtypes)\n",
    "        print(df)\n",
    "        return 'Hello, world'\n",
    "    \n",
    "\n",
    "if __name__ == '__main__':\n",
    "    app.run(host='0.0.0.0', port=8000)\n"
   ]
  }
 ],
 "metadata": {
  "kernelspec": {
   "display_name": "Python 3",
   "language": "python",
   "name": "python3"
  },
  "language_info": {
   "codemirror_mode": {
    "name": "ipython",
    "version": 3
   },
   "file_extension": ".py",
   "mimetype": "text/x-python",
   "name": "python",
   "nbconvert_exporter": "python",
   "pygments_lexer": "ipython3",
   "version": "3.6.9"
  }
 },
 "nbformat": 4,
 "nbformat_minor": 4
}
