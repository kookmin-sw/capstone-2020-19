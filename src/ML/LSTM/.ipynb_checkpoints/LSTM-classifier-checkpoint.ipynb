{
 "cells": [
  {
   "cell_type": "code",
   "execution_count": null,
   "metadata": {},
   "outputs": [],
   "source": [
    "!nvidia-smi"
   ]
  },
  {
   "cell_type": "code",
   "execution_count": null,
   "metadata": {},
   "outputs": [],
   "source": [
    "!pip install -U scikit-learn"
   ]
  },
  {
   "cell_type": "code",
   "execution_count": 87,
   "metadata": {},
   "outputs": [],
   "source": [
    "%matplotlib inline"
   ]
  },
  {
   "cell_type": "code",
   "execution_count": 88,
   "metadata": {},
   "outputs": [],
   "source": [
    "from multiprocessing import cpu_count\n",
    "from pathlib import Path"
   ]
  },
  {
   "cell_type": "code",
   "execution_count": 89,
   "metadata": {},
   "outputs": [],
   "source": [
    "import matplotlib.pyplot as plt\n",
    "import numpy as np\n",
    "import pandas as pd\n",
    "from sklearn.model_selection import train_test_split\n",
    "from sklearn.preprocessing import LabelEncoder\n",
    "import torch\n",
    "from torch import nn\n",
    "from torch.nn import functional as F\n",
    "from torch.utils.data import TensorDataset, DataLoader\n",
    "from torch.optim.lr_scheduler import _LRScheduler"
   ]
  },
  {
   "cell_type": "code",
   "execution_count": 90,
   "metadata": {},
   "outputs": [],
   "source": [
    "seed = 1\n",
    "np.random.seed(seed)\n",
    "torch.cuda.set_device(0)"
   ]
  },
  {
   "cell_type": "markdown",
   "metadata": {},
   "source": [
    "## 데이터 로드"
   ]
  },
  {
   "cell_type": "code",
   "execution_count": 91,
   "metadata": {},
   "outputs": [],
   "source": [
    "ROOT = Path.cwd().parent/'ML'\n",
    "#샘플데이터\n",
    "SAMPLE = ROOT/'sample_submission.csv'\n",
    "TRAIN = ROOT/'train_x.csv'\n",
    "TARGET = ROOT/'train_y.csv'\n",
    "TEST = ROOT/'test_x.csv'\n",
    "RESULT = ROOT/'test_y.csv'\n",
    "\n",
    "ID_COLS = ['series_id', 'measurement_num']\n",
    "\n",
    "x_cols = {\n",
    "    'series_id' : np.uint32,\n",
    "    'measurement_num': np.uint32,\n",
    "    'x' : np.float32,\n",
    "    'y' : np.float32,\n",
    "    'z' : np.float32\n",
    "}\n",
    "\n",
    "y_cols = {\n",
    "    'series_id' : np.uint32,\n",
    "    'activity' : str\n",
    "}\n"
   ]
  },
  {
   "cell_type": "code",
   "execution_count": 92,
   "metadata": {},
   "outputs": [],
   "source": [
    "x_trn = pd.read_csv(TRAIN, usecols = x_cols.keys(), dtype=x_cols)\n",
    "x_tst = pd.read_csv(TEST, usecols = x_cols.keys(), dtype=x_cols)\n",
    "y_trn = pd.read_csv(TARGET, usecols = y_cols.keys(), dtype=y_cols)\n",
    "y_tst = pd.read_csv(RESULT, usecols = y_cols.keys(), dtype=y_cols)"
   ]
  },
  {
   "cell_type": "markdown",
   "metadata": {},
   "source": [
    "# PyTorch Wrappers\n",
    "torch모델을 훈련시키기 전에 pandas 데이터 프레임을 PyTorch-specific 데이터 타입으로 변환해야 한다. "
   ]
  },
  {
   "cell_type": "code",
   "execution_count": 93,
   "metadata": {},
   "outputs": [],
   "source": [
    "def create_datasets(X, y, test_size=0.2, dropcols = ID_COLS, time_dim_first=False):\n",
    "    enc = LabelEncoder()\n",
    "    y_enc = enc.fit_transform(y)\n",
    "    X_grouped = create_grouped_array(X)\n",
    "    if time_dim_first:\n",
    "        X_grouped = X_grouped.transpose(0, 2, 1)\n",
    "    \n",
    "    X_train, X_valid, y_train, y_valid = train_test_split(X_grouped, y_enc, test_size = 0.1)\n",
    "    X_train, X_valid = [torch.tensor(arr, dtype=torch.float32) for arr in (X_train, X_valid)]\n",
    "    y_train, y_valid = [torch.tensor(arr, dtype=torch.float32) for arr in (y_train, y_valid)]\n",
    "\n",
    "    train_ds = TensorDataset(X_train, y_train)\n",
    "    valid_ds = TensorDataset(X_valid, y_valid)\n",
    "    \n",
    "    return train_ds, valid_ds, enc\n",
    "\n",
    "def create_grouped_array(data, group_col='series_id', drop_cols=ID_COLS):\n",
    "        X_grouped = np.row_stack([\n",
    "            group.drop(columns=drop_cols).values[None]\n",
    "            for _, group in data.groupby(group_col)\n",
    "        ])\n",
    "        \n",
    "        return X_grouped\n",
    "\n",
    "def create_test_dataset(X, drop_cols=ID_COLS):\n",
    "    X_grouped = np.row_stack([\n",
    "        group.drop(columns=drop_cols).values[None]\n",
    "        for _, group in X.groupby('series_id')\n",
    "    ])\n",
    "    X_grouped = torch.tensor(X_grouped.transpose(0, 2, 1)).float()\n",
    "    y_fake = torch.tensor([0] * len(X_grouped)).long()\n",
    "    return TensorDataset(X_grouped, y_fake)\n",
    "    \n",
    "def create_loaders(train_ds, valid_ds, bs=512, jobs=0):\n",
    "    train_dl = DataLoader(train_ds, bs, shuffle=True, num_workers=jobs)\n",
    "    valid_dl = DataLoader(valid_ds, bs, shuffle=False, num_workers=jobs)\n",
    "    \n",
    "    return train_dl, valid_dl\n",
    "\n",
    "def accuracy(output, target):\n",
    "    return(output.argmax(dim=1) == target).float().mean().item()"
   ]
  },
  {
   "cell_type": "markdown",
   "metadata": {},
   "source": [
    "# Cyclic Learning Rate\n",
    "simple consine scheduler 구현"
   ]
  },
  {
   "cell_type": "code",
   "execution_count": 94,
   "metadata": {},
   "outputs": [],
   "source": [
    "class CyclicLR(_LRScheduler):\n",
    "    def __init__(self, optimizer, schedule, last_epoch =-1):\n",
    "        assert callable(schedule)\n",
    "        self.schedule = schedule\n",
    "        super().__init__(optimizer, last_epoch)\n",
    "        \n",
    "    def get_lr(self):\n",
    "        return [self.schedule(self.last_epoch, lr) for lr in self.base_lrs]"
   ]
  },
  {
   "cell_type": "code",
   "execution_count": 95,
   "metadata": {},
   "outputs": [],
   "source": [
    "def cosine(t_max, eta_min=0):\n",
    "    def scheduler(epoch, base_lr):\n",
    "        t = epoch % t_max\n",
    "        \n",
    "        return eta_min + (base_lr - eta_min) * (1 + np.cos(np.pi*t/t_max))/2\n",
    "    \n",
    "    return scheduler"
   ]
  },
  {
   "cell_type": "code",
   "execution_count": 96,
   "metadata": {},
   "outputs": [
    {
     "data": {
      "text/plain": [
       "[<matplotlib.lines.Line2D at 0x7f32e3cce358>]"
      ]
     },
     "execution_count": 96,
     "metadata": {},
     "output_type": "execute_result"
    },
    {
     "data": {
      "image/png": "[encoded data removed]",
      "text/plain": [
       "<Figure size 432x288 with 1 Axes>"
      ]
     },
     "metadata": {
      "needs_background": "light"
     },
     "output_type": "display_data"
    }
   ],
   "source": [
    "n = 100\n",
    "sched = cosine(n)\n",
    "lrs = [sched(t, 1) for t in range(n * 4)]\n",
    "plt.plot(lrs)"
   ]
  },
  {
   "cell_type": "markdown",
   "metadata": {},
   "source": [
    "# LSTM Model"
   ]
  },
  {
   "cell_type": "code",
   "execution_count": 97,
   "metadata": {},
   "outputs": [],
   "source": [
    "class LSTMClassifier(nn.Module):\n",
    "    \"\"\"simple version\"\"\"\n",
    "    \n",
    "    def __init__(self, input_dim, hidden_dim, layer_dim, output_dim):\n",
    "        super().__init__()\n",
    "        self.hidden_dim = hidden_dim\n",
    "        self.layer_dim = layer_dim\n",
    "        self.rnn = nn.LSTM(input_dim, hidden_dim, layer_dim, batch_first=True)\n",
    "        self.fc = nn.Linear(hidden_dim, output_dim)\n",
    "        self.batch_size = None\n",
    "        self.hidden = None\n",
    "        \n",
    "    def forward(self, x):\n",
    "        h0, c0 = self.init_hidden(x)\n",
    "        out, (hn, cn) = self.rnn(x, (h0, c0))\n",
    "        out = self.fc(out[:, -1, :])\n",
    "        return out\n",
    "    \n",
    "    def init_hidden(self, x):\n",
    "        h0 = torch.zeros(self.layer_dim, x.size(0), self.hidden_dim)\n",
    "        c0 = torch.zeros(self.layer_dim, x.size(0), self.hidden_dim)\n",
    "        return [t.cuda() for t in (h0, c0)]"
   ]
  },
  {
   "cell_type": "code",
   "execution_count": 98,
   "metadata": {},
   "outputs": [
    {
     "name": "stdout",
     "output_type": "stream",
     "text": [
      "데이터셋 준비\n",
      "3987\n"
     ]
    }
   ],
   "source": [
    "print('데이터셋 준비')\n",
    "trn_ds, val_ds, enc = create_datasets(x_trn, y_trn['activity'])\n",
    "print(len(trn_ds))"
   ]
  },
  {
   "cell_type": "code",
   "execution_count": 99,
   "metadata": {},
   "outputs": [
    {
     "name": "stdout",
     "output_type": "stream",
     "text": [
      "Creating data loaders with batch size: 30\n"
     ]
    }
   ],
   "source": [
    "bs = 30\n",
    "print(f'Creating data loaders with batch size: {bs}')\n",
    "trn_dl, val_dl = create_loaders(trn_ds, val_ds, bs, jobs=cpu_count())\n"
   ]
  },
  {
   "cell_type": "markdown",
   "metadata": {},
   "source": [
    "# Training Loop\n",
    "모델을 훈련시킨다"
   ]
  },
  {
   "cell_type": "code",
   "execution_count": 100,
   "metadata": {},
   "outputs": [],
   "source": [
    "torch.cuda.empty_cache()"
   ]
  },
  {
   "cell_type": "code",
   "execution_count": null,
   "metadata": {},
   "outputs": [],
   "source": [
    "!nvidia-smi"
   ]
  },
  {
   "cell_type": "code",
   "execution_count": 101,
   "metadata": {
    "scrolled": true
   },
   "outputs": [
    {
     "name": "stdout",
     "output_type": "stream",
     "text": [
      "Start model training\n",
      "Epoch 1 best model saved with accuracy: 94.14%\n",
      "Epoch 2 best model saved with accuracy: 94.59%\n",
      "Epoch 3 best model saved with accuracy: 95.05%\n",
      "Epoch 4 best model saved with accuracy: 96.40%\n",
      "Epoch:   5. Loss: 0.0230. Acc.: 96.85%\n",
      "Epoch 5 best model saved with accuracy: 96.85%\n",
      "Epoch 8 best model saved with accuracy: 97.52%\n",
      "Epoch:  10. Loss: 0.0052. Acc.: 97.52%\n",
      "Epoch 13 best model saved with accuracy: 97.97%\n",
      "Epoch:  15. Loss: 0.0042. Acc.: 97.97%\n",
      "Epoch:  20. Loss: 0.0068. Acc.: 97.97%\n",
      "Epoch 21 best model saved with accuracy: 98.20%\n",
      "Epoch:  25. Loss: 0.0113. Acc.: 98.42%\n",
      "Epoch 25 best model saved with accuracy: 98.42%\n",
      "Epoch 27 best model saved with accuracy: 98.65%\n",
      "Epoch:  30. Loss: 0.0206. Acc.: 98.42%\n",
      "Epoch:  35. Loss: 0.0041. Acc.: 98.20%\n",
      "Epoch 38 best model saved with accuracy: 98.87%\n",
      "Epoch:  40. Loss: 0.0011. Acc.: 98.65%\n",
      "Epoch:  45. Loss: 0.0014. Acc.: 97.97%\n",
      "Epoch 49 best model saved with accuracy: 99.32%\n",
      "Epoch:  50. Loss: 0.0013. Acc.: 98.65%\n",
      "Epoch:  55. Loss: 0.0017. Acc.: 97.97%\n",
      "Epoch:  60. Loss: 0.0027. Acc.: 98.87%\n",
      "Epoch:  65. Loss: 0.0013. Acc.: 98.65%\n",
      "Epoch:  70. Loss: 0.0009. Acc.: 98.87%\n",
      "Epoch:  75. Loss: 0.0021. Acc.: 99.10%\n",
      "Epoch:  80. Loss: 0.0013. Acc.: 98.65%\n",
      "Epoch:  85. Loss: 0.0003. Acc.: 98.42%\n",
      "Epoch:  90. Loss: 0.0012. Acc.: 99.32%\n",
      "Epoch:  95. Loss: 0.0056. Acc.: 98.65%\n",
      "Epoch: 100. Loss: 0.0007. Acc.: 99.32%\n",
      "Epoch 101 best model saved with accuracy: 99.55%\n",
      "Epoch: 105. Loss: 0.0002. Acc.: 98.65%\n",
      "Epoch: 110. Loss: 0.1241. Acc.: 99.10%\n",
      "Epoch: 115. Loss: 0.0022. Acc.: 98.87%\n",
      "Epoch: 120. Loss: 0.0009. Acc.: 99.32%\n",
      "Epoch: 125. Loss: 0.0001. Acc.: 99.10%\n",
      "Epoch: 130. Loss: 0.0005. Acc.: 98.65%\n",
      "Epoch: 135. Loss: 0.0003. Acc.: 99.32%\n",
      "Epoch: 140. Loss: 0.0001. Acc.: 99.32%\n",
      "Epoch: 145. Loss: 0.0020. Acc.: 98.65%\n",
      "Epoch: 150. Loss: 0.0001. Acc.: 99.32%\n",
      "Epoch: 155. Loss: 0.0001. Acc.: 98.65%\n",
      "Epoch: 160. Loss: 0.0001. Acc.: 98.65%\n",
      "Epoch: 165. Loss: 0.0001. Acc.: 99.32%\n",
      "Epoch: 170. Loss: 0.0005. Acc.: 98.42%\n",
      "Epoch: 175. Loss: 0.0002. Acc.: 98.65%\n",
      "Epoch: 180. Loss: 0.0000. Acc.: 98.87%\n",
      "Epoch: 185. Loss: 0.0002. Acc.: 98.65%\n",
      "Epoch: 190. Loss: 0.0005. Acc.: 98.65%\n",
      "Epoch: 195. Loss: 0.0001. Acc.: 98.65%\n",
      "Epoch: 200. Loss: 0.0001. Acc.: 98.87%\n",
      "Early stopping on epoch 201\n"
     ]
    }
   ],
   "source": [
    "input_dim = 3\n",
    "# hidden_dim = 5\n",
    "# hidden_dim = 10\n",
    "hidden_dim = 60\n",
    "layer_dim = 3\n",
    "output_dim = 2\n",
    "seq_dim = 30\n",
    "\n",
    "lr = 0.0005\n",
    "n_epochs = 1000\n",
    "iteration_per_epoch = len(trn_dl)\n",
    "best_acc = 0\n",
    "patience, trials = 100, 0\n",
    "\n",
    "\n",
    "model = LSTMClassifier(input_dim, hidden_dim, layer_dim, output_dim)\n",
    "model = model.cuda()\n",
    "criterion = nn.CrossEntropyLoss()\n",
    "opt = torch.optim.RMSprop(model.parameters(), lr=lr)\n",
    "sched = CyclicLR(opt, cosine(t_max=iteration_per_epoch * 2, eta_min=lr/100))\n",
    "\n",
    "print('Start model training')\n",
    "\n",
    "for epoch in range(1, n_epochs + 1):\n",
    "    \n",
    "    for i, (x_batch, y_batch) in enumerate(trn_dl):\n",
    "        model.train()\n",
    "        x_batch = x_batch.cuda()\n",
    "        y_batch = y_batch.cuda()\n",
    "        sched.step()\n",
    "        opt.zero_grad()\n",
    "        out = model(x_batch)\n",
    "        loss = criterion(out, y_batch.long())\n",
    "        loss.backward()\n",
    "        opt.step()\n",
    "    \n",
    "    model.eval()\n",
    "    correct, total = 0, 0\n",
    "    for x_val, y_val in val_dl:\n",
    "        x_val, y_val = [t.cuda() for t in (x_val, y_val)]\n",
    "        out = model(x_val)\n",
    "        preds = F.log_softmax(out, dim=1).argmax(dim=1)\n",
    "        total += y_val.size(0)\n",
    "        correct += (preds == y_val).sum().item()\n",
    "        \n",
    "    acc = correct / total\n",
    "    \n",
    "    if epoch % 5 == 0:\n",
    "        print(f'Epoch: {epoch:3d}. Loss: {loss.item():.4f}. Acc.: {acc:2.2%}')\n",
    "        \n",
    "    if acc > best_acc:\n",
    "        trials = 0\n",
    "        best_acc = acc\n",
    "        torch.save(model.state_dict(), 'best.path')\n",
    "        print(f'Epoch {epoch} best model saved with accuracy: {best_acc:2.2%}')\n",
    "        \n",
    "    else:\n",
    "        trials += 1\n",
    "        if trials >= patience:\n",
    "            print(f'Early stopping on epoch {epoch}')\n",
    "            break\n",
    "            "
   ]
  },
  {
   "cell_type": "code",
   "execution_count": null,
   "metadata": {},
   "outputs": [],
   "source": [
    "print('The training is finished! Restoring the best model weights')"
   ]
  },
  {
   "cell_type": "markdown",
   "metadata": {},
   "source": [
    "# Test dataset 실행"
   ]
  },
  {
   "cell_type": "code",
   "execution_count": 102,
   "metadata": {},
   "outputs": [
    {
     "data": {
      "text/plain": [
       "<All keys matched successfully>"
      ]
     },
     "execution_count": 102,
     "metadata": {},
     "output_type": "execute_result"
    }
   ],
   "source": [
    "model.load_state_dict(torch.load('best.path'))"
   ]
  },
  {
   "cell_type": "code",
   "execution_count": 103,
   "metadata": {},
   "outputs": [
    {
     "data": {
      "text/plain": [
       "LSTMClassifier(\n",
       "  (rnn): LSTM(3, 60, num_layers=3, batch_first=True)\n",
       "  (fc): Linear(in_features=60, out_features=2, bias=True)\n",
       ")"
      ]
     },
     "execution_count": 103,
     "metadata": {},
     "output_type": "execute_result"
    }
   ],
   "source": [
    "model.eval()"
   ]
  },
  {
   "cell_type": "code",
   "execution_count": 104,
   "metadata": {},
   "outputs": [],
   "source": [
    "test_dl = DataLoader(create_test_dataset(x_tst), batch_size=15, shuffle=False)"
   ]
  },
  {
   "cell_type": "code",
   "execution_count": 105,
   "metadata": {},
   "outputs": [
    {
     "name": "stdout",
     "output_type": "stream",
     "text": [
      "Predicting on test dataset\n"
     ]
    }
   ],
   "source": [
    "test = []\n",
    "print('Predicting on test dataset')\n",
    "\n",
    "for batch, _ in test_dl:\n",
    "    batch = batch.permute(0, 2, 1)\n",
    "    out = model(batch.cuda())\n",
    "    y_hat = F.log_softmax(out, dim=1).argmax(dim=1)\n",
    "    test += y_hat.tolist()"
   ]
  },
  {
   "cell_type": "code",
   "execution_count": 106,
   "metadata": {},
   "outputs": [],
   "source": [
    "data = {\n",
    "    \"series_id\" : [n for n in range(len(x_tst['series_id'])// 30)],\n",
    "    \"activity\" : [\"walk\" for i in range(len(x_tst['series_id'])// 30)]\n",
    "}\n",
    "\n",
    "sample = pd.DataFrame(data, columns = [\"series_id\", \"activity\"], index = None)\n",
    "sample.to_csv('sample_submission.csv', index=None)\n",
    "\n",
    "submit = pd.read_csv(SAMPLE)\n",
    "submit['activity'] = enc.inverse_transform(test)\n",
    "submit.to_csv('submit.csv', index=None)"
   ]
  },
  {
   "cell_type": "code",
   "execution_count": null,
   "metadata": {},
   "outputs": [],
   "source": []
  },
  {
   "cell_type": "code",
   "execution_count": 107,
   "metadata": {},
   "outputs": [
    {
     "name": "stdout",
     "output_type": "stream",
     "text": [
      "Test Accuracy :  98.36497890295358 %\n"
     ]
    }
   ],
   "source": [
    "# #정확도 측정 부분\n",
    "# answer = 0\n",
    "# for i in range(len(submit['activity'])):\n",
    "#     if submit['activity'][i] == y_tst['activity'][i]:\n",
    "#         answer = answer + 1\n",
    "# print(\"Test Accuracy : \", answer / len(submit['activity']) *100, \"%\")"
   ]
  },
  {
   "cell_type": "markdown",
   "metadata": {},
   "source": [
    "##### "
   ]
  }
 ],
 "metadata": {
  "kernelspec": {
   "display_name": "Python 3",
   "language": "python",
   "name": "python3"
  },
  "language_info": {
   "codemirror_mode": {
    "name": "ipython",
    "version": 3
   },
   "file_extension": ".py",
   "mimetype": "text/x-python",
   "name": "python",
   "nbconvert_exporter": "python",
   "pygments_lexer": "ipython3",
   "version": "3.6.9"
  }
 },
 "nbformat": 4,
 "nbformat_minor": 4
}
