{
 "cells": [
  {
   "cell_type": "markdown",
   "metadata": {},
   "source": [
    "## 데이터셋 모양 \n",
    "\n",
    "**timestamp : [x 축 가속도, y 축 가속도, z 축 가속도]** \n",
    "\n",
    "문제 : 충분하게 마련되지 못할 것으로 예상되는 ( 데이터 수집기간이 1달로 짧음 ) 센서 데이터셋을 어떻게 증가시킬지. \n",
    "- 데이터셋을 일상 생활을 하면서 일어나는 것을 일단 어느정도 축적해 x,y,z 축의 데이터셋을 일정 부분 축적한 후 데이터의 동향을 살펴본다. 이후 데이터셋의 시각화와 파악이 완료되면 임의의 낙상 데이터를 직접 낙상 상황을 따라해 만들어보며 낙상시의 데이터 패턴을 확인해 데이터 셋 학습을 시킨다. \n",
    "- image 데이터셋과 달리 augmentation을 진행할때 낙상이 아니라 일상생활시의 데이터셋은 각 축마다의 극값을 추출해 데이터셋을 극값 사이의 값으로 랜덤하게 부풀릴 것으로 예상하고 있다. 낙상 데이터셋은 특징적인 데이터이므로 따로 augmentation을 진행하지 않고 여러번 데이터를 낙상을 모방하여 만들어보기로 한다. \n",
    "\n",
    "---\n",
    "\n",
    "LSTM : RNN은 중간 길이 정도의 시퀀스(100개의 입력)을 입력해도 훈련이 느리다. 첫번째 입력의 기억이 학습을 진행하면서 계속 잊혀진다. 그러므로 장단기 메모리 셀을 사용하여 훈련이 빠르게 수렴하고 데이터에 있는 장기간의 의존성을 감지할 수 있게 한다. "
   ]
  }
 ],
 "metadata": {
  "kernelspec": {
   "display_name": "Python 3",
   "language": "python",
   "name": "python3"
  },
  "language_info": {
   "codemirror_mode": {
    "name": "ipython",
    "version": 3
   },
   "file_extension": ".py",
   "mimetype": "text/x-python",
   "name": "python",
   "nbconvert_exporter": "python",
   "pygments_lexer": "ipython3",
   "version": "3.7.3"
  }
 },
 "nbformat": 4,
 "nbformat_minor": 2
}
