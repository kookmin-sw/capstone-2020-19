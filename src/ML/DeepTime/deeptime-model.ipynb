{
 "cells": [
  {
   "cell_type": "code",
   "execution_count": 5,
   "metadata": {},
   "outputs": [
    {
     "name": "stdout",
     "output_type": "stream",
     "text": [
      "Defaulting to user installation because normal site-packages is not writeable\n",
      "Requirement already satisfied: joblib in /home/ghyeon/.local/lib/python3.6/site-packages (0.14.1)\n",
      "\u001b[33mWARNING: You are using pip version 20.0.2; however, version 20.1.1 is available.\n",
      "You should consider upgrading via the '/usr/bin/python3 -m pip install --upgrade pip' command.\u001b[0m\n"
     ]
    }
   ],
   "source": [
    "!pip install joblib"
   ]
  },
  {
   "cell_type": "code",
   "execution_count": 1,
   "metadata": {},
   "outputs": [],
   "source": [
    "from collections import defaultdict\n",
    "from functools import partial\n",
    "from multiprocessing import cpu_count\n",
    "from pathlib import Path\n",
    "from textwrap import dedent"
   ]
  },
  {
   "cell_type": "code",
   "execution_count": 2,
   "metadata": {},
   "outputs": [],
   "source": [
    "import matplotlib.pyplot as plt\n",
    "import numpy as np\n",
    "import pandas as pd\n",
    "import joblib\n",
    "from sklearn.model_selection import train_test_split\n",
    "from sklearn.preprocessing import LabelEncoder, StandardScaler\n",
    "import torch\n",
    "from torch import nn\n",
    "from torch import optim\n",
    "from torch.nn import functional as F\n",
    "from torch.optim.lr_scheduler import _LRScheduler\n",
    "from torch.utils.data import TensorDataset, DataLoader"
   ]
  },
  {
   "cell_type": "code",
   "execution_count": 3,
   "metadata": {},
   "outputs": [],
   "source": [
    "seed = 1\n",
    "np.random.seed(seed)"
   ]
  },
  {
   "cell_type": "code",
   "execution_count": 4,
   "metadata": {},
   "outputs": [],
   "source": [
    "ROOT = Path.cwd().parent/'ML'\n"
   ]
  },
  {
   "cell_type": "markdown",
   "metadata": {},
   "source": [
    "# DATA "
   ]
  },
  {
   "cell_type": "code",
   "execution_count": 5,
   "metadata": {},
   "outputs": [],
   "source": [
    "ROOT = Path.cwd().parent/'ML'\n",
    "#샘플데이터\n",
    "SAMPLE = ROOT/'sample_submission.csv'\n",
    "TRAIN = ROOT/'train_x.csv'\n",
    "TARGET = ROOT/'train_y.csv'\n",
    "TEST = ROOT/'test_x.csv'\n",
    "RESULT = ROOT/'test_y.csv'\n",
    "\n",
    "ID_COLS = ['series_id', 'measurement_num']\n",
    "\n",
    "x_cols = {\n",
    "    'series_id' : np.uint32,\n",
    "    'measurement_num': np.uint32,\n",
    "    'x' : np.float32,\n",
    "    'y' : np.float32,\n",
    "    'z' : np.float32\n",
    "}\n",
    "\n",
    "y_cols = {\n",
    "    'series_id' : np.uint32,\n",
    "    'activity' : str\n",
    "}\n"
   ]
  },
  {
   "cell_type": "code",
   "execution_count": 6,
   "metadata": {},
   "outputs": [],
   "source": [
    "x_trn = pd.read_csv(TRAIN, usecols = x_cols.keys(), dtype=x_cols)\n",
    "x_tst = pd.read_csv(TEST, usecols = x_cols.keys(), dtype=x_cols)\n",
    "y_trn = pd.read_csv(TARGET, usecols = y_cols.keys(), dtype=y_cols)\n",
    "y_tst = pd.read_csv(RESULT, usecols = y_cols.keys(), dtype=y_cols)"
   ]
  },
  {
   "cell_type": "code",
   "execution_count": 7,
   "metadata": {},
   "outputs": [
    {
     "name": "stdout",
     "output_type": "stream",
     "text": [
      "9\n"
     ]
    }
   ],
   "source": [
    "raw_arr =np.load(ROOT/'feat.npy').transpose(0, 2,1)\n",
    "print(raw_arr.shape[1])"
   ]
  },
  {
   "cell_type": "code",
   "execution_count": 8,
   "metadata": {},
   "outputs": [
    {
     "name": "stdout",
     "output_type": "stream",
     "text": [
      "        series_id  measurement_num          x         y         z\n",
      "0               0                0  -3.984212  1.166823  8.641599\n",
      "1               0                1  -3.978943  0.965602  8.861025\n",
      "2               0                2  -3.679507  0.942606  8.753708\n",
      "3               0                3  -3.181248  1.006804  7.352831\n",
      "4               0                4  -1.938474  0.259415  3.109001\n",
      "...           ...              ...        ...       ...       ...\n",
      "299995       9999               25  -8.087312 -1.065687 -2.028808\n",
      "299996       9999               26  -7.934237 -1.677310 -1.179753\n",
      "299997       9999               27  -8.763372 -0.735752 -1.184813\n",
      "299998       9999               28 -11.866045 -1.526172 -1.930170\n",
      "299999       9999               29 -12.879398 -3.972492 -0.904189\n",
      "\n",
      "[300000 rows x 5 columns]\n"
     ]
    }
   ],
   "source": [
    "print(x_trn)"
   ]
  },
  {
   "cell_type": "markdown",
   "metadata": {},
   "source": [
    "# Pytorch Wrapper"
   ]
  },
  {
   "cell_type": "code",
   "execution_count": 9,
   "metadata": {},
   "outputs": [],
   "source": [
    "def create_datasets(X, y, test_size=0.2, dropcols = ID_COLS, time_dim_first=False):\n",
    "    enc = LabelEncoder()\n",
    "    y_enc = enc.fit_transform(y)\n",
    "    X_grouped = create_grouped_array(X)\n",
    "    if time_dim_first:\n",
    "        X_grouped = X_grouped.transpose(0, 2, 1)\n",
    "    \n",
    "    X_train, X_valid, y_train, y_valid = train_test_split(X_grouped, y_enc, test_size = 0.1)\n",
    "    X_train, X_valid = [torch.tensor(arr, dtype=torch.float32) for arr in (X_train, X_valid)]\n",
    "    y_train, y_valid = [torch.tensor(arr, dtype=torch.float32) for arr in (y_train, y_valid)]\n",
    "\n",
    "    train_ds = TensorDataset(X_train, y_train)\n",
    "    valid_ds = TensorDataset(X_valid, y_valid)\n",
    "    \n",
    "    return train_ds, valid_ds, enc\n",
    "\n",
    "def create_grouped_array(data, group_col='series_id', drop_cols=ID_COLS):\n",
    "        X_grouped = np.row_stack([\n",
    "            group.drop(columns=drop_cols).values[None]\n",
    "            for _, group in data.groupby(group_col)\n",
    "        ])\n",
    "        \n",
    "        return X_grouped\n",
    "\n",
    "def create_test_dataset(X, drop_cols=ID_COLS):\n",
    "    X_grouped = np.row_stack([\n",
    "        group.drop(columns=drop_cols).values[None]\n",
    "        for _, group in X.groupby('series_id')\n",
    "    ])\n",
    "    X_grouped = torch.tensor(X_grouped.transpose(0, 2, 1)).float()\n",
    "    y_fake = torch.tensor([0] * len(X_grouped)).long()\n",
    "    return TensorDataset(X_grouped, y_fake)\n",
    "    \n",
    "def create_loaders(train_ds, valid_ds, bs=512, jobs=0):\n",
    "    train_dl = DataLoader(train_ds, bs, shuffle=True, num_workers=jobs)\n",
    "    valid_dl = DataLoader(valid_ds, bs, shuffle=False, num_workers=jobs)\n",
    "    \n",
    "    return train_dl, valid_dl\n",
    "\n",
    "def accuracy(output, target):\n",
    "    return(output.argmax(dim=1) == target).float().mean().item()"
   ]
  },
  {
   "cell_type": "markdown",
   "metadata": {},
   "source": [
    "# Model"
   ]
  },
  {
   "cell_type": "code",
   "execution_count": 10,
   "metadata": {},
   "outputs": [],
   "source": [
    "class _SepConv1d(nn.Module):\n",
    "    \"\"\"A simple separable convolution implementation.\n",
    "    \n",
    "    The separable convlution is a method to reduce number of the parameters \n",
    "    in the deep learning network for slight decrease in predictions quality.\n",
    "    \"\"\"\n",
    "    def __init__(self, ni, no, kernel, stride, pad):\n",
    "        super().__init__()\n",
    "        self.depthwise = nn.Conv1d(ni, ni, kernel, stride, padding=pad, groups=ni)\n",
    "        self.pointwise = nn.Conv1d(ni, no, kernel_size=1)\n",
    "\n",
    "    def forward(self, x):\n",
    "        return self.pointwise(self.depthwise(x))"
   ]
  },
  {
   "cell_type": "code",
   "execution_count": 11,
   "metadata": {},
   "outputs": [],
   "source": [
    "class SepConv1d(nn.Module):\n",
    "    \"\"\"Implementes a 1-d convolution with 'batteries included'.\n",
    "    \n",
    "    The module adds (optionally) activation function and dropout layers right after\n",
    "    a separable convolution layer.\n",
    "    \"\"\"\n",
    "    def __init__(self, ni, no, kernel, stride, pad, drop=None,\n",
    "                 activ=lambda: nn.ReLU(inplace=True)):\n",
    "    \n",
    "        super().__init__()\n",
    "        assert drop is None or (0.0 < drop < 1.0)\n",
    "        layers = [_SepConv1d(ni, no, kernel, stride, pad)]\n",
    "        if activ:\n",
    "            layers.append(activ())\n",
    "        if drop is not None:\n",
    "            layers.append(nn.Dropout(drop))\n",
    "        self.layers = nn.Sequential(*layers)\n",
    "        \n",
    "    def forward(self, x): \n",
    "        return self.layers(x)"
   ]
  },
  {
   "cell_type": "code",
   "execution_count": 12,
   "metadata": {},
   "outputs": [],
   "source": [
    "class Flatten(nn.Module):\n",
    "    \"\"\"Converts N-dimensional tensor into 'flat' one.\"\"\"\n",
    "\n",
    "    def __init__(self, keep_batch_dim=True):\n",
    "        super().__init__()\n",
    "        self.keep_batch_dim = keep_batch_dim\n",
    "\n",
    "    def forward(self, x):\n",
    "        if self.keep_batch_dim:\n",
    "            return x.view(x.size(0), -1)\n",
    "        return x.view(-1)"
   ]
  },
  {
   "cell_type": "code",
   "execution_count": 13,
   "metadata": {},
   "outputs": [],
   "source": [
    "class Classifier(nn.Module):\n",
    "    def __init__(self, raw_ni, no, drop=.5):\n",
    "        super().__init__()\n",
    "        \n",
    "        self.raw = nn.Sequential(\n",
    "            SepConv1d(raw_ni,  32, 5, 2, 3, drop=drop),\n",
    "            SepConv1d(    32,  64, 5, 4, 2, drop=drop),\n",
    "            SepConv1d(    64, 128, 5, 4, 2, drop=drop),\n",
    "            SepConv1d(   128, 256, 5, 4, 2),\n",
    "            Flatten(),\n",
    "            nn.Dropout(drop), nn.Linear(256, 64), nn.ReLU(inplace=True),\n",
    "            nn.Dropout(drop), nn.Linear( 64, 64), nn.ReLU(inplace=True))\n",
    "        \n",
    "#         self.fft = nn.Sequential(\n",
    "#             SepConv1d(fft_ni,  32, 8, 2, 4, drop=drop),\n",
    "#             SepConv1d(    32,  64, 8, 2, 4, drop=drop),\n",
    "#             SepConv1d(    64, 128, 8, 4, 4, drop=drop),\n",
    "#             SepConv1d(   128, 128, 8, 4, 4, drop=drop),\n",
    "#             SepConv1d(   128, 256, 8, 2, 3),\n",
    "#             Flatten(),\n",
    "#             nn.Dropout(drop), nn.Linear(256, 64), nn.ReLU(inplace=True),\n",
    "#             nn.Dropout(drop), nn.Linear( 64, 64), nn.ReLU(inplace=True))\n",
    "        \n",
    "        self.out = nn.Sequential(\n",
    "            nn.Linear(64, 64), nn.ReLU(inplace=True), nn.Linear(64, no))\n",
    "        \n",
    "    def forward(self, t_raw):\n",
    "        raw_out = self.raw(t_raw)\n",
    "        #fft_out = self.fft(t_fft)\n",
    "        t_in = torch.cat([raw_out], dim=1)\n",
    "        out = self.out(t_in)\n",
    "        return out"
   ]
  },
  {
   "cell_type": "code",
   "execution_count": 14,
   "metadata": {},
   "outputs": [
    {
     "name": "stdout",
     "output_type": "stream",
     "text": [
      "데이터셋 준비\n",
      "9000\n"
     ]
    }
   ],
   "source": [
    "print('데이터셋 준비')\n",
    "trn_ds, val_ds, enc = create_datasets(x_trn, y_trn['activity'])\n",
    "trn_sz = len(trn_ds)\n",
    "print(len(trn_ds))"
   ]
  },
  {
   "cell_type": "code",
   "execution_count": 15,
   "metadata": {},
   "outputs": [],
   "source": [
    "device = torch.device('cuda:0' if torch.cuda.is_available() else 'cpu')"
   ]
  },
  {
   "cell_type": "code",
   "execution_count": 16,
   "metadata": {},
   "outputs": [
    {
     "name": "stdout",
     "output_type": "stream",
     "text": [
      "Creating data loaders with batch size: 128\n",
      "71\n"
     ]
    }
   ],
   "source": [
    "bs = 128\n",
    "print(f'Creating data loaders with batch size: {bs}')\n",
    "trn_dl, val_dl = create_loaders(trn_ds, val_ds, bs, jobs=cpu_count())\n",
    "print(len(trn_dl))\n"
   ]
  },
  {
   "cell_type": "code",
   "execution_count": 19,
   "metadata": {},
   "outputs": [
    {
     "name": "stdout",
     "output_type": "stream",
     "text": [
      "Start model training\n",
      "Epoch:   1. Loss: 1.2774. Acc.: 53.00%\n",
      "Epoch 1 best model saved with accuracy: 53.00%\n",
      "Epoch:   2. Loss: 0.7009. Acc.: 47.00%\n",
      "Epoch:   4. Loss: 0.6891. Acc.: 82.00%\n",
      "Epoch 4 best model saved with accuracy: 82.00%\n",
      "Epoch 5 best model saved with accuracy: 90.90%\n",
      "Epoch 6 best model saved with accuracy: 92.70%\n",
      "Epoch 7 best model saved with accuracy: 94.90%\n",
      "Epoch:   8. Loss: 0.2107. Acc.: 96.00%\n",
      "Epoch 8 best model saved with accuracy: 96.00%\n",
      "Epoch 10 best model saved with accuracy: 96.10%\n",
      "Epoch 11 best model saved with accuracy: 96.30%\n",
      "Epoch 12 best model saved with accuracy: 96.70%\n",
      "Epoch 13 best model saved with accuracy: 96.80%\n",
      "Epoch 14 best model saved with accuracy: 97.10%\n",
      "Epoch:  16. Loss: 0.1325. Acc.: 97.50%\n",
      "Epoch 16 best model saved with accuracy: 97.50%\n",
      "Epoch 18 best model saved with accuracy: 97.70%\n",
      "Epoch 21 best model saved with accuracy: 98.00%\n",
      "Epoch 23 best model saved with accuracy: 98.40%\n",
      "Epoch 24 best model saved with accuracy: 98.50%\n",
      "Epoch 28 best model saved with accuracy: 98.60%\n",
      "Epoch:  32. Loss: 0.0803. Acc.: 98.60%\n",
      "Epoch 34 best model saved with accuracy: 98.80%\n",
      "Epoch 51 best model saved with accuracy: 99.10%\n",
      "Epoch 53 best model saved with accuracy: 99.20%\n",
      "Epoch 58 best model saved with accuracy: 99.40%\n",
      "Epoch:  64. Loss: 0.0534. Acc.: 99.10%\n",
      "Epoch 70 best model saved with accuracy: 99.50%\n",
      "Done!\n"
     ]
    }
   ],
   "source": [
    "lr = 0.0005\n",
    "n_epochs = 100\n",
    "iterations_per_epoch = len(trn_dl)\n",
    "num_classes = 9\n",
    "best_acc = 0\n",
    "patience, trials = 500, 0\n",
    "base = 1\n",
    "step = 2\n",
    "loss_history = []\n",
    "acc_history = []\n",
    "\n",
    "model = Classifier(30, num_classes).to(device)\n",
    "criterion = nn.CrossEntropyLoss(reduction='sum')\n",
    "opt = optim.Adam(model.parameters(), lr=lr)\n",
    "\n",
    "print('Start model training')\n",
    "\n",
    "for epoch in range(1, n_epochs + 1):\n",
    "    \n",
    "    model.train()\n",
    "    epoch_loss = 0\n",
    "    for i, batch in enumerate(trn_dl):\n",
    "        x_raw, y_batch = [t.to(device) for t in batch]\n",
    "        opt.zero_grad()\n",
    "        #print(x_raw)\n",
    "        out = model(x_raw)\n",
    "        #y_batch = np.long(y_batch)\n",
    "        loss = criterion(out, y_batch.long())\n",
    "        epoch_loss += loss.item()\n",
    "        loss.backward()\n",
    "        opt.step()\n",
    "        \n",
    "    epoch_loss /= trn_sz\n",
    "    loss_history.append(epoch_loss)\n",
    "    \n",
    "    model.eval()\n",
    "    correct, total = 0, 0\n",
    "    for batch in val_dl:\n",
    "        x_raw, y_batch = [t.to(device) for t in batch]\n",
    "        out = model(x_raw)\n",
    "        preds = F.log_softmax(out, dim=1).argmax(dim=1)\n",
    "        total += y_batch.size(0)\n",
    "        correct += (preds == y_batch).sum().item()\n",
    "    \n",
    "    acc = correct / total\n",
    "    acc_history.append(acc)\n",
    "\n",
    "    if epoch % base == 0:\n",
    "        print(f'Epoch: {epoch:3d}. Loss: {epoch_loss:.4f}. Acc.: {acc:2.2%}')\n",
    "        base *= step\n",
    "\n",
    "    if acc > best_acc:\n",
    "        trials = 0\n",
    "        best_acc = acc\n",
    "        torch.save(model.state_dict(), 'best.pth')\n",
    "        print(f'Epoch {epoch} best model saved with accuracy: {best_acc:2.2%}')\n",
    "    else:\n",
    "        trials += 1\n",
    "        if trials >= patience:\n",
    "            print(f'Early stopping on epoch {epoch}')\n",
    "            break\n",
    "            \n",
    "print('Done!')"
   ]
  },
  {
   "cell_type": "code",
   "execution_count": 20,
   "metadata": {},
   "outputs": [],
   "source": [
    "def smooth(y, box_pts):\n",
    "    box = np.ones(box_pts)/box_pts\n",
    "    y_smooth = np.convolve(y, box, mode='same')\n",
    "    return y_smooth\n"
   ]
  },
  {
   "cell_type": "code",
   "execution_count": 21,
   "metadata": {},
   "outputs": [
    {
     "data": {
      "image/png": "[encoded data removed]",
      "text/plain": [
       "<Figure size 864x288 with 2 Axes>"
      ]
     },
     "metadata": {
      "needs_background": "light"
     },
     "output_type": "display_data"
    }
   ],
   "source": [
    "f, ax = plt.subplots(1, 2, figsize=(12, 4))\n",
    "\n",
    "ax[0].plot(loss_history, label='loss')\n",
    "ax[0].set_title('Validation Loss History')\n",
    "ax[0].set_xlabel('Epoch no.')\n",
    "ax[0].set_ylabel('Loss')\n",
    "\n",
    "ax[1].plot(smooth(acc_history, 5)[:-2], label='acc')\n",
    "ax[1].set_title('Validation Accuracy History')\n",
    "ax[1].set_xlabel('Epoch no.')\n",
    "ax[1].set_ylabel('Accuracy');"
   ]
  },
  {
   "cell_type": "code",
   "execution_count": 22,
   "metadata": {},
   "outputs": [],
   "source": [
    "tst_dl = DataLoader(create_test_dataset(x_tst), batch_size=64, shuffle=False)\n",
    "test = []\n",
    "model.load_state_dict(torch.load('best.pth'))\n",
    "model.eval()\n",
    "# for x_raw, _ in tst_dl:\n",
    "#     batches = [t.to(device) for t in x_raw]\n",
    "#     out = model(*batches)\n",
    "#     y_hat = F.log_softmax(out, dim=1).argmax(dim=1)\n",
    "#     test_results.extend(y_hat.tolist())\n",
    "    \n",
    "for batch, _ in tst_dl:\n",
    "    batch = batch.permute(0, 2, 1)\n",
    "    out = model(batch.cuda())\n",
    "    y_hat = F.log_softmax(out, dim=1).argmax(dim=1)\n",
    "    test += y_hat.tolist()\n",
    "\n",
    "data = {\n",
    "    \"series_id\" : [n for n in range(len(x_tst['series_id'])// 30)],\n",
    "    \"activity\" : [\"walk\" for i in range(len(x_tst['series_id'])// 30)]\n",
    "}\n",
    "\n",
    "sample = pd.DataFrame(data, columns = [\"series_id\", \"activity\"], index = None)\n",
    "sample.to_csv('sample_submission.csv', index=None)\n",
    "\n",
    "submit = pd.read_csv(SAMPLE)\n",
    "submit['activity'] = enc.inverse_transform(test)\n",
    "submit.to_csv('submit.csv', index=None)"
   ]
  },
  {
   "cell_type": "code",
   "execution_count": 37,
   "metadata": {},
   "outputs": [
    {
     "name": "stdout",
     "output_type": "stream",
     "text": [
      "[[1979   21]\n",
      " [  11 1989]]\n",
      "0.992\n",
      "0.9945\n",
      "0.9895522388059701\n",
      "0.9920199501246882\n",
      "Test Accuracy :  99.2 %\n"
     ]
    }
   ],
   "source": [
    "from sklearn.metrics import accuracy_score, recall_score, precision_score, f1_score\n",
    "answer = 0\n",
    "guesses = []\n",
    "labels = []\n",
    "\n",
    "for i in range(len(submit['activity'])):\n",
    "    if submit['activity'][i] == \"fall\":\n",
    "        guesses.append(1)\n",
    "    else:\n",
    "        guesses.append(0)\n",
    "    if y_tst['activity'][i] == \"fall\":\n",
    "        labels.append(1)\n",
    "    else:\n",
    "        labels.append(0)\n",
    "\n",
    "print(confusion_matrix(labels, guesses))\n",
    "print(accuracy_score(labels, guesses))\n",
    "print(recall_score(labels, guesses))\n",
    "print(precision_score(labels, guesses))\n",
    "print(f1_score(labels, guesses))\n",
    "\n",
    "for i in range(len(submit['activity'])):\n",
    "    if submit['activity'][i] == y_tst['activity'][i]:\n",
    "        answer = answer + 1\n",
    "\n",
    "print(\"Test Accuracy : \", answer / len(submit['activity']) *100, \"%\")"
   ]
  },
  {
   "cell_type": "code",
   "execution_count": null,
   "metadata": {},
   "outputs": [],
   "source": []
  }
 ],
 "metadata": {
  "kernelspec": {
   "display_name": "Python 3",
   "language": "python",
   "name": "python3"
  },
  "language_info": {
   "codemirror_mode": {
    "name": "ipython",
    "version": 3
   },
   "file_extension": ".py",
   "mimetype": "text/x-python",
   "name": "python",
   "nbconvert_exporter": "python",
   "pygments_lexer": "ipython3",
   "version": "3.6.9"
  }
 },
 "nbformat": 4,
 "nbformat_minor": 4
}
